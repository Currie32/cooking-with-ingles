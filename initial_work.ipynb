{
 "cells": [
  {
   "cell_type": "code",
   "execution_count": 13,
   "id": "e9596f2a",
   "metadata": {
    "scrolled": true
   },
   "outputs": [
    {
     "name": "stdout",
     "output_type": "stream",
     "text": [
      "Requirement already satisfied: firebase-admin in /Users/davidcurie/.local/lib/python3.8/site-packages (5.2.0)\n",
      "Requirement already satisfied: cachecontrol>=0.12.6 in /Users/davidcurie/.local/lib/python3.8/site-packages (from firebase-admin) (0.12.10)\n",
      "Requirement already satisfied: google-api-core[grpc]<3.0.0dev,>=1.22.1 in /Users/davidcurie/.local/lib/python3.8/site-packages (from firebase-admin) (2.5.0)\n",
      "Requirement already satisfied: google-cloud-firestore>=2.1.0 in /Users/davidcurie/.local/lib/python3.8/site-packages (from firebase-admin) (2.3.4)\n",
      "Requirement already satisfied: google-api-python-client>=1.7.8 in /Users/davidcurie/.local/lib/python3.8/site-packages (from firebase-admin) (2.38.0)\n",
      "Requirement already satisfied: google-cloud-storage>=1.37.1 in /Users/davidcurie/.local/lib/python3.8/site-packages (from firebase-admin) (2.1.0)\n",
      "Requirement already satisfied: requests in /Users/davidcurie/.local/lib/python3.8/site-packages (from cachecontrol>=0.12.6->firebase-admin) (2.27.1)\n",
      "Requirement already satisfied: msgpack>=0.5.2 in /Users/davidcurie/.local/lib/python3.8/site-packages (from cachecontrol>=0.12.6->firebase-admin) (1.0.3)\n",
      "Requirement already satisfied: google-auth<3.0dev,>=1.25.0 in /Users/davidcurie/.local/lib/python3.8/site-packages (from google-api-core[grpc]<3.0.0dev,>=1.22.1->firebase-admin) (2.6.0)\n",
      "Requirement already satisfied: protobuf>=3.12.0 in /Users/davidcurie/.local/lib/python3.8/site-packages (from google-api-core[grpc]<3.0.0dev,>=1.22.1->firebase-admin) (3.19.4)\n",
      "Requirement already satisfied: googleapis-common-protos<2.0dev,>=1.52.0 in /Users/davidcurie/.local/lib/python3.8/site-packages (from google-api-core[grpc]<3.0.0dev,>=1.22.1->firebase-admin) (1.55.0)\n",
      "Requirement already satisfied: grpcio<2.0dev,>=1.33.2 in /Users/davidcurie/.local/lib/python3.8/site-packages (from google-api-core[grpc]<3.0.0dev,>=1.22.1->firebase-admin) (1.44.0)\n",
      "Requirement already satisfied: grpcio-status<2.0dev,>=1.33.2 in /Users/davidcurie/.local/lib/python3.8/site-packages (from google-api-core[grpc]<3.0.0dev,>=1.22.1->firebase-admin) (1.44.0)\n",
      "Requirement already satisfied: uritemplate<5,>=3.0.1 in /Users/davidcurie/.local/lib/python3.8/site-packages (from google-api-python-client>=1.7.8->firebase-admin) (4.1.1)\n",
      "Requirement already satisfied: httplib2<1dev,>=0.15.0 in /Users/davidcurie/.local/lib/python3.8/site-packages (from google-api-python-client>=1.7.8->firebase-admin) (0.20.4)\n",
      "Requirement already satisfied: google-auth-httplib2>=0.1.0 in /Users/davidcurie/.local/lib/python3.8/site-packages (from google-api-python-client>=1.7.8->firebase-admin) (0.1.0)\n",
      "Requirement already satisfied: cachetools<6.0,>=2.0.0 in /Users/davidcurie/.local/lib/python3.8/site-packages (from google-auth<3.0dev,>=1.25.0->google-api-core[grpc]<3.0.0dev,>=1.22.1->firebase-admin) (5.0.0)\n",
      "Requirement already satisfied: pyasn1-modules>=0.2.1 in /Users/davidcurie/.local/lib/python3.8/site-packages (from google-auth<3.0dev,>=1.25.0->google-api-core[grpc]<3.0.0dev,>=1.22.1->firebase-admin) (0.2.8)\n",
      "Requirement already satisfied: six>=1.9.0 in /Users/davidcurie/opt/miniconda3/lib/python3.8/site-packages (from google-auth<3.0dev,>=1.25.0->google-api-core[grpc]<3.0.0dev,>=1.22.1->firebase-admin) (1.15.0)\n",
      "Requirement already satisfied: rsa<5,>=3.1.4 in /Users/davidcurie/.local/lib/python3.8/site-packages (from google-auth<3.0dev,>=1.25.0->google-api-core[grpc]<3.0.0dev,>=1.22.1->firebase-admin) (4.8)\n",
      "Requirement already satisfied: proto-plus>=1.10.0 in /Users/davidcurie/.local/lib/python3.8/site-packages (from google-cloud-firestore>=2.1.0->firebase-admin) (1.20.3)\n",
      "Requirement already satisfied: google-cloud-core<3.0.0dev,>=1.4.1 in /Users/davidcurie/.local/lib/python3.8/site-packages (from google-cloud-firestore>=2.1.0->firebase-admin) (2.2.2)\n",
      "Requirement already satisfied: packaging>=14.3 in /Users/davidcurie/opt/miniconda3/lib/python3.8/site-packages (from google-cloud-firestore>=2.1.0->firebase-admin) (20.9)\n",
      "Requirement already satisfied: google-resumable-media>=1.3.0 in /Users/davidcurie/.local/lib/python3.8/site-packages (from google-cloud-storage>=1.37.1->firebase-admin) (2.3.0)\n",
      "Requirement already satisfied: google-crc32c<2.0dev,>=1.0 in /Users/davidcurie/.local/lib/python3.8/site-packages (from google-resumable-media>=1.3.0->google-cloud-storage>=1.37.1->firebase-admin) (1.3.0)\n",
      "Requirement already satisfied: pyparsing!=3.0.0,!=3.0.1,!=3.0.2,!=3.0.3,<4,>=2.4.2 in /Users/davidcurie/opt/miniconda3/lib/python3.8/site-packages (from httplib2<1dev,>=0.15.0->google-api-python-client>=1.7.8->firebase-admin) (2.4.7)\n",
      "Requirement already satisfied: pyasn1<0.5.0,>=0.4.6 in /Users/davidcurie/.local/lib/python3.8/site-packages (from pyasn1-modules>=0.2.1->google-auth<3.0dev,>=1.25.0->google-api-core[grpc]<3.0.0dev,>=1.22.1->firebase-admin) (0.4.8)\n",
      "Requirement already satisfied: idna<4,>=2.5 in /Users/davidcurie/opt/miniconda3/lib/python3.8/site-packages (from requests->cachecontrol>=0.12.6->firebase-admin) (2.9)\n",
      "Requirement already satisfied: urllib3<1.27,>=1.21.1 in /Users/davidcurie/opt/miniconda3/lib/python3.8/site-packages (from requests->cachecontrol>=0.12.6->firebase-admin) (1.25.8)\n",
      "Requirement already satisfied: charset-normalizer~=2.0.0 in /Users/davidcurie/.local/lib/python3.8/site-packages (from requests->cachecontrol>=0.12.6->firebase-admin) (2.0.12)\n",
      "Requirement already satisfied: certifi>=2017.4.17 in /Users/davidcurie/opt/miniconda3/lib/python3.8/site-packages (from requests->cachecontrol>=0.12.6->firebase-admin) (2020.6.20)\n",
      "\u001b[33mWARNING: You are using pip version 21.2.2; however, version 22.0.4 is available.\n",
      "You should consider upgrading via the '/Users/davidcurie/opt/miniconda3/bin/python3 -m pip install --upgrade pip' command.\u001b[0m\n"
     ]
    }
   ],
   "source": [
    "import sys  \n",
    "!{sys.executable} -m pip install --user --upgrade firebase-admin"
   ]
  },
  {
   "cell_type": "code",
   "execution_count": 1,
   "id": "c2bfbe96",
   "metadata": {},
   "outputs": [],
   "source": [
    "from firebase_admin import credentials, firestore, initialize_app\n",
    "from recipe_scrapers import scrape_me"
   ]
  },
  {
   "cell_type": "code",
   "execution_count": 2,
   "id": "23fc9baf",
   "metadata": {},
   "outputs": [],
   "source": [
    "cred = credentials.Certificate('./frontend/src/Firebase/serviceAccountKey.json')\n",
    "initialize_app(cred)\n",
    "db = firestore.client()"
   ]
  },
  {
   "cell_type": "code",
   "execution_count": 3,
   "id": "2ef805ea",
   "metadata": {},
   "outputs": [],
   "source": [
    "data = db.collection('users').document('dave').get().to_dict()"
   ]
  },
  {
   "cell_type": "code",
   "execution_count": 4,
   "id": "a792f4f5",
   "metadata": {
    "scrolled": true
   },
   "outputs": [
    {
     "data": {
      "text/plain": [
       "{'Red Pepper Risotto': {'total_time': 60.0,\n",
       "  'nutrients': {'unsaturatedFatContent': '7 grams',\n",
       "   'sugarContent': '7 grams',\n",
       "   'fatContent': '11 grams',\n",
       "   '@context': 'http://schema.org',\n",
       "   'calories': '392',\n",
       "   'carbohydrateContent': '55 grams',\n",
       "   'proteinContent': '14 grams',\n",
       "   'saturatedFatContent': '3 grams',\n",
       "   'sodiumContent': '963 milligrams',\n",
       "   'fiberContent': '3 grams'},\n",
       "  'instructions': 'Bring the stock to a simmer in a saucepan, with a ladle nearby. Season generously with salt.\\nHeat the olive oil in a large, wide, heavy skillet or saucepan over medium heat and add the onions or shallots. Cook gently until they begin to soften, about 3 minutes. Add the garlic, peppers, and 1/2 teaspoon salt and cook, stirring, until the peppers are limp and fragrant, about 8 to 10 minutes. Add the rice and stir over medium heat until the grains are separate and beginning to crackle, about 3 minutes.\\nStir in the wine and cook over medium heat, stirring constantly. The wine should bubble, but not too quickly. You want some of the flavor to cook into the rice before it evaporates. When the wine has just about evaporated, stir in a ladleful or two of the simmering stock (about 1/2 cup), enough to just cover the rice. The stock should bubble slowly (adjust heat accordingly). Rub the saffron threads between your fingers and add to the rice. Cook, stirring often, until the stock is just about absorbed. Add another ladleful or two of the stock and continue to cook in this fashion, not too fast and not too slowly, stirring often and adding more stock when the rice is almost dry, for 25 minutes, until the rice is cooked through but still a little chewy. Taste and adjust seasoning.\\nWhen the rice is cooked through, add a generous amount of freshly ground pepper, and stir in another half cup of stock, the Parmesan and the herbs. Remove from the heat. The rice should be creamy; if it isn’t, add a little more stock. Stir once, taste and adjust seasonings, and serve.',\n",
       "  'ingredients': ['6 to 7 cups chicken or vegetable stock',\n",
       "   '2 tablespoons extra virgin olive oil',\n",
       "   '1/2 cup finely chopped onion or shallot',\n",
       "   '2 plump garlic cloves, minced',\n",
       "   '2 large red peppers, finely diced',\n",
       "   'Salt to taste',\n",
       "   '1 1/2 cups arborio or carnaroli rice',\n",
       "   '1/2 cup dry white wine',\n",
       "   'A generous pinch of saffron threads (optional)',\n",
       "   'Freshly ground pepper to taste',\n",
       "   '2 tablespoons chopped fresh parsley, or a mixture of parsley and thyme',\n",
       "   '2 ounces Parmesan cheese, grated (1/2 cup)'],\n",
       "  'image': 'https://static01.nyt.com/images/2008/09/26/health/nutrition/25recipe.health/25recipe.health-articleLarge.jpg'},\n",
       " 'Vegan Thai Peanut Curry': {'ingredients': ['500 g tofu (extra firm or firm)',\n",
       "   '2 tablespoon soy sauce',\n",
       "   '1/2 teaspoon cinnamon',\n",
       "   '1/2 teaspoon turmeric',\n",
       "   '1 teaspoon cumin',\n",
       "   '1 teaspoon coriander powder',\n",
       "   '1 teaspoon sweet paprika',\n",
       "   '1 teaspoon sugar',\n",
       "   '2 garlic cloves ( finely chopped)',\n",
       "   '1 small onion ( finely chopped)',\n",
       "   '2 red chillies (chopped)',\n",
       "   '1 thumb-piece ginger (grated or finely chopped)',\n",
       "   '1 small carrot (finely chopped)',\n",
       "   '500 ml vegetable stock',\n",
       "   '80 g peanuts or peanut butter',\n",
       "   '1 teaspoon sugar',\n",
       "   '1 tablespoon soy sauce',\n",
       "   '400 ml coconut milk',\n",
       "   'Chopped vegetables of your choice'],\n",
       "  'image': 'https://sixhungryfeet.com/wp-content/uploads/2021/01/Vegan-Thai-Peanut-Curry-7.jpg',\n",
       "  'total_time': 40,\n",
       "  'instructions': 'Marinate the tofu. Cut the tofu block into cubes and prepare the marinade. Mix in a small bowl soy sauce, cinnamon, turmeric, cumin, coriander powder and sugar. Add the marinade onto the tofu, mix with your hands or a spoon and leave marinating while you prepare the rest of the ingredients.\\nHeat some oil in a pan and add the garlic, onion, red chillies, ginger and carrot. Stir fry for a couple of minutes until the onion has softened and all the ingredients are cooked and transfer into a big blender jug.\\nAdd the vegetable stock, crushed peanuts or peanut butter, sugar and soy sauce. Blend all the ingredients using a hand blender until you have a smooth sauce.\\nUsing the same pan or pot used before, add some more oil if needed, heat the oil and add the tofu and chopped vegetables of your choice.\\nCook for a couple of minutes until the vegetables start to golden. Pour the peanut sauce and coconut milk. Bring to simmer and leave simmering for about 15 minutes. Adjust with salt to taste and your curry will be ready to enjoy.',\n",
       "  'nutrients': {'fiberContent': '11 g',\n",
       "   'sodiumContent': '1375 mg',\n",
       "   'fatContent': '32 g',\n",
       "   'sugarContent': '20 g',\n",
       "   'carbohydrateContent': '100 g',\n",
       "   'calories': '795 kcal',\n",
       "   'saturatedFatContent': '21 g',\n",
       "   'servingSize': '1 serving',\n",
       "   'proteinContent': '36 g'}},\n",
       " 'Sweet Potato Shakshuka': {'image': 'https://craftofcookingfood.com/wp-content/uploads/2018/09/IMG_8806.jpg',\n",
       "  'nutrients': {},\n",
       "  'total_time': 26,\n",
       "  'ingredients': ['2 cups Diced Sweet Potatoes (Tip! Use frozen they work great!)',\n",
       "   '1 tbsp crushed garlic',\n",
       "   '1 1/2 tsp turmeric powder',\n",
       "   '1 tsp cumin',\n",
       "   '1 dash cayenne powder',\n",
       "   '2 cups diced fresh tomatoes',\n",
       "   '1 cup vegetable broth (Better Than Boullion No Chicken Broth)',\n",
       "   '1/2 tsp salt',\n",
       "   'Pepper to taste',\n",
       "   '1/4 cup chopped parsley',\n",
       "   '4 eggs for poaching',\n",
       "   '1/2 chopped onion'],\n",
       "  'instructions': 'Pre-heat oven to 400 degrees.\\nIn a medium cast iron skillet add a splash of olive oil, the onions and sweet potatoes .Cook over medium heat.\\nOnce onions are translucent add garlic and tomatoes. Cook until tomatoes begin to break down and add 1/2 cup of vegetable stock.\\nAdd in turmeric, cumin, chopped parsley, salt, and pepper.\\nMake small indentation in the skillet and carefully add eggs for poaching.\\nPut skillet in the oven for 8 minutes, remove and serve with naan bread.'}}"
      ]
     },
     "execution_count": 4,
     "metadata": {},
     "output_type": "execute_result"
    }
   ],
   "source": [
    "data"
   ]
  },
  {
   "cell_type": "code",
   "execution_count": 7,
   "id": "25729529",
   "metadata": {},
   "outputs": [],
   "source": [
    "urls = [\n",
    "    'https://cooking.nytimes.com/recipes/1016458-red-pepper-risotto',\n",
    "    'https://sixhungryfeet.com/vegan-thai-peanut-curry',\n",
    "    'https://craftofcookingfood.com/2019/04/24/sweet-potato-shakshuka/',\n",
    "]"
   ]
  },
  {
   "cell_type": "code",
   "execution_count": 14,
   "id": "e20642fe",
   "metadata": {},
   "outputs": [
    {
     "name": "stdout",
     "output_type": "stream",
     "text": [
      "https://cooking.nytimes.com/recipes/1016458-red-pepper-risotto\n",
      "https://sixhungryfeet.com/vegan-thai-peanut-curry\n",
      "https://craftofcookingfood.com/2019/04/24/sweet-potato-shakshuka/\n"
     ]
    }
   ],
   "source": [
    "for url in urls:\n",
    "    print(url)\n",
    "    scraper = scrape_me(url, wild_mode=True)\n",
    "    \n",
    "    title = scraper.title()\n",
    "    \n",
    "    data[title] = {\n",
    "#         \"cuisine\": scraper.cuisine(),\n",
    "#         \"description\": scraper.description(),\n",
    "        \"title\": title,\n",
    "        \"ingredients\": scraper.ingredients(),\n",
    "        \"instructions\": scraper.instructions().split('\\n'),\n",
    "        \"image\": scraper.image(),\n",
    "        \"nutrients\": scraper.nutrients(),\n",
    "#         \"cook_time\": scraper.cook_time(),\n",
    "#         \"prep_time\": scraper.prep_time(),\n",
    "        \"total_time\": scraper.total_time(),\n",
    "    }"
   ]
  },
  {
   "cell_type": "code",
   "execution_count": 15,
   "id": "bf107935",
   "metadata": {
    "scrolled": true
   },
   "outputs": [
    {
     "data": {
      "text/plain": [
       "update_time {\n",
       "  seconds: 1649102558\n",
       "  nanos: 782112000\n",
       "}"
      ]
     },
     "execution_count": 15,
     "metadata": {},
     "output_type": "execute_result"
    }
   ],
   "source": [
    "doc_ref = db.collection('users').document('dave')\n",
    "doc_ref.set(data)"
   ]
  },
  {
   "cell_type": "code",
   "execution_count": 29,
   "id": "4acda340",
   "metadata": {},
   "outputs": [
    {
     "ename": "ConnectionError",
     "evalue": "HTTPSConnectionPool(host='coking.nytimes.com', port=443): Max retries exceeded with url: /recipes/1016458-red-pepper-risotto (Caused by NewConnectionError('<urllib3.connection.VerifiedHTTPSConnection object at 0x7fdd7c781e20>: Failed to establish a new connection: [Errno 8] nodename nor servname provided, or not known'))",
     "output_type": "error",
     "traceback": [
      "\u001b[0;31m---------------------------------------------------------------------------\u001b[0m",
      "\u001b[0;31mKeyError\u001b[0m                                  Traceback (most recent call last)",
      "\u001b[0;32m~/.local/lib/python3.8/site-packages/recipe_scrapers/__init__.py\u001b[0m in \u001b[0;36mscrape_me\u001b[0;34m(url_path, **options)\u001b[0m\n\u001b[1;32m    380\u001b[0m     \u001b[0;32mtry\u001b[0m\u001b[0;34m:\u001b[0m\u001b[0;34m\u001b[0m\u001b[0;34m\u001b[0m\u001b[0m\n\u001b[0;32m--> 381\u001b[0;31m         \u001b[0mscraper\u001b[0m \u001b[0;34m=\u001b[0m \u001b[0mSCRAPERS\u001b[0m\u001b[0;34m[\u001b[0m\u001b[0mhost_name\u001b[0m\u001b[0;34m]\u001b[0m\u001b[0;34m\u001b[0m\u001b[0;34m\u001b[0m\u001b[0m\n\u001b[0m\u001b[1;32m    382\u001b[0m     \u001b[0;32mexcept\u001b[0m \u001b[0mKeyError\u001b[0m\u001b[0;34m:\u001b[0m\u001b[0;34m\u001b[0m\u001b[0;34m\u001b[0m\u001b[0m\n",
      "\u001b[0;31mKeyError\u001b[0m: 'coking.nytimes.com'",
      "\nDuring handling of the above exception, another exception occurred:\n",
      "\u001b[0;31mgaierror\u001b[0m                                  Traceback (most recent call last)",
      "\u001b[0;32m~/opt/miniconda3/lib/python3.8/site-packages/urllib3/connection.py\u001b[0m in \u001b[0;36m_new_conn\u001b[0;34m(self)\u001b[0m\n\u001b[1;32m    155\u001b[0m         \u001b[0;32mtry\u001b[0m\u001b[0;34m:\u001b[0m\u001b[0;34m\u001b[0m\u001b[0;34m\u001b[0m\u001b[0m\n\u001b[0;32m--> 156\u001b[0;31m             conn = connection.create_connection(\n\u001b[0m\u001b[1;32m    157\u001b[0m                 \u001b[0;34m(\u001b[0m\u001b[0mself\u001b[0m\u001b[0;34m.\u001b[0m\u001b[0m_dns_host\u001b[0m\u001b[0;34m,\u001b[0m \u001b[0mself\u001b[0m\u001b[0;34m.\u001b[0m\u001b[0mport\u001b[0m\u001b[0;34m)\u001b[0m\u001b[0;34m,\u001b[0m \u001b[0mself\u001b[0m\u001b[0;34m.\u001b[0m\u001b[0mtimeout\u001b[0m\u001b[0;34m,\u001b[0m \u001b[0;34m**\u001b[0m\u001b[0mextra_kw\u001b[0m\u001b[0;34m\u001b[0m\u001b[0;34m\u001b[0m\u001b[0m\n",
      "\u001b[0;32m~/opt/miniconda3/lib/python3.8/site-packages/urllib3/util/connection.py\u001b[0m in \u001b[0;36mcreate_connection\u001b[0;34m(address, timeout, source_address, socket_options)\u001b[0m\n\u001b[1;32m     60\u001b[0m \u001b[0;34m\u001b[0m\u001b[0m\n\u001b[0;32m---> 61\u001b[0;31m     \u001b[0;32mfor\u001b[0m \u001b[0mres\u001b[0m \u001b[0;32min\u001b[0m \u001b[0msocket\u001b[0m\u001b[0;34m.\u001b[0m\u001b[0mgetaddrinfo\u001b[0m\u001b[0;34m(\u001b[0m\u001b[0mhost\u001b[0m\u001b[0;34m,\u001b[0m \u001b[0mport\u001b[0m\u001b[0;34m,\u001b[0m \u001b[0mfamily\u001b[0m\u001b[0;34m,\u001b[0m \u001b[0msocket\u001b[0m\u001b[0;34m.\u001b[0m\u001b[0mSOCK_STREAM\u001b[0m\u001b[0;34m)\u001b[0m\u001b[0;34m:\u001b[0m\u001b[0;34m\u001b[0m\u001b[0;34m\u001b[0m\u001b[0m\n\u001b[0m\u001b[1;32m     62\u001b[0m         \u001b[0maf\u001b[0m\u001b[0;34m,\u001b[0m \u001b[0msocktype\u001b[0m\u001b[0;34m,\u001b[0m \u001b[0mproto\u001b[0m\u001b[0;34m,\u001b[0m \u001b[0mcanonname\u001b[0m\u001b[0;34m,\u001b[0m \u001b[0msa\u001b[0m \u001b[0;34m=\u001b[0m \u001b[0mres\u001b[0m\u001b[0;34m\u001b[0m\u001b[0;34m\u001b[0m\u001b[0m\n",
      "\u001b[0;32m~/opt/miniconda3/lib/python3.8/socket.py\u001b[0m in \u001b[0;36mgetaddrinfo\u001b[0;34m(host, port, family, type, proto, flags)\u001b[0m\n\u001b[1;32m    917\u001b[0m     \u001b[0maddrlist\u001b[0m \u001b[0;34m=\u001b[0m \u001b[0;34m[\u001b[0m\u001b[0;34m]\u001b[0m\u001b[0;34m\u001b[0m\u001b[0;34m\u001b[0m\u001b[0m\n\u001b[0;32m--> 918\u001b[0;31m     \u001b[0;32mfor\u001b[0m \u001b[0mres\u001b[0m \u001b[0;32min\u001b[0m \u001b[0m_socket\u001b[0m\u001b[0;34m.\u001b[0m\u001b[0mgetaddrinfo\u001b[0m\u001b[0;34m(\u001b[0m\u001b[0mhost\u001b[0m\u001b[0;34m,\u001b[0m \u001b[0mport\u001b[0m\u001b[0;34m,\u001b[0m \u001b[0mfamily\u001b[0m\u001b[0;34m,\u001b[0m \u001b[0mtype\u001b[0m\u001b[0;34m,\u001b[0m \u001b[0mproto\u001b[0m\u001b[0;34m,\u001b[0m \u001b[0mflags\u001b[0m\u001b[0;34m)\u001b[0m\u001b[0;34m:\u001b[0m\u001b[0;34m\u001b[0m\u001b[0;34m\u001b[0m\u001b[0m\n\u001b[0m\u001b[1;32m    919\u001b[0m         \u001b[0maf\u001b[0m\u001b[0;34m,\u001b[0m \u001b[0msocktype\u001b[0m\u001b[0;34m,\u001b[0m \u001b[0mproto\u001b[0m\u001b[0;34m,\u001b[0m \u001b[0mcanonname\u001b[0m\u001b[0;34m,\u001b[0m \u001b[0msa\u001b[0m \u001b[0;34m=\u001b[0m \u001b[0mres\u001b[0m\u001b[0;34m\u001b[0m\u001b[0;34m\u001b[0m\u001b[0m\n",
      "\u001b[0;31mgaierror\u001b[0m: [Errno 8] nodename nor servname provided, or not known",
      "\nDuring handling of the above exception, another exception occurred:\n",
      "\u001b[0;31mNewConnectionError\u001b[0m                        Traceback (most recent call last)",
      "\u001b[0;32m~/opt/miniconda3/lib/python3.8/site-packages/urllib3/connectionpool.py\u001b[0m in \u001b[0;36murlopen\u001b[0;34m(self, method, url, body, headers, retries, redirect, assert_same_host, timeout, pool_timeout, release_conn, chunked, body_pos, **response_kw)\u001b[0m\n\u001b[1;32m    664\u001b[0m             \u001b[0;31m# Make the request on the httplib connection object.\u001b[0m\u001b[0;34m\u001b[0m\u001b[0;34m\u001b[0m\u001b[0;34m\u001b[0m\u001b[0m\n\u001b[0;32m--> 665\u001b[0;31m             httplib_response = self._make_request(\n\u001b[0m\u001b[1;32m    666\u001b[0m                 \u001b[0mconn\u001b[0m\u001b[0;34m,\u001b[0m\u001b[0;34m\u001b[0m\u001b[0;34m\u001b[0m\u001b[0m\n",
      "\u001b[0;32m~/opt/miniconda3/lib/python3.8/site-packages/urllib3/connectionpool.py\u001b[0m in \u001b[0;36m_make_request\u001b[0;34m(self, conn, method, url, timeout, chunked, **httplib_request_kw)\u001b[0m\n\u001b[1;32m    375\u001b[0m         \u001b[0;32mtry\u001b[0m\u001b[0;34m:\u001b[0m\u001b[0;34m\u001b[0m\u001b[0;34m\u001b[0m\u001b[0m\n\u001b[0;32m--> 376\u001b[0;31m             \u001b[0mself\u001b[0m\u001b[0;34m.\u001b[0m\u001b[0m_validate_conn\u001b[0m\u001b[0;34m(\u001b[0m\u001b[0mconn\u001b[0m\u001b[0;34m)\u001b[0m\u001b[0;34m\u001b[0m\u001b[0;34m\u001b[0m\u001b[0m\n\u001b[0m\u001b[1;32m    377\u001b[0m         \u001b[0;32mexcept\u001b[0m \u001b[0;34m(\u001b[0m\u001b[0mSocketTimeout\u001b[0m\u001b[0;34m,\u001b[0m \u001b[0mBaseSSLError\u001b[0m\u001b[0;34m)\u001b[0m \u001b[0;32mas\u001b[0m \u001b[0me\u001b[0m\u001b[0;34m:\u001b[0m\u001b[0;34m\u001b[0m\u001b[0;34m\u001b[0m\u001b[0m\n",
      "\u001b[0;32m~/opt/miniconda3/lib/python3.8/site-packages/urllib3/connectionpool.py\u001b[0m in \u001b[0;36m_validate_conn\u001b[0;34m(self, conn)\u001b[0m\n\u001b[1;32m    993\u001b[0m         \u001b[0;32mif\u001b[0m \u001b[0;32mnot\u001b[0m \u001b[0mgetattr\u001b[0m\u001b[0;34m(\u001b[0m\u001b[0mconn\u001b[0m\u001b[0;34m,\u001b[0m \u001b[0;34m\"sock\"\u001b[0m\u001b[0;34m,\u001b[0m \u001b[0;32mNone\u001b[0m\u001b[0;34m)\u001b[0m\u001b[0;34m:\u001b[0m  \u001b[0;31m# AppEngine might not have  `.sock`\u001b[0m\u001b[0;34m\u001b[0m\u001b[0;34m\u001b[0m\u001b[0m\n\u001b[0;32m--> 994\u001b[0;31m             \u001b[0mconn\u001b[0m\u001b[0;34m.\u001b[0m\u001b[0mconnect\u001b[0m\u001b[0;34m(\u001b[0m\u001b[0;34m)\u001b[0m\u001b[0;34m\u001b[0m\u001b[0;34m\u001b[0m\u001b[0m\n\u001b[0m\u001b[1;32m    995\u001b[0m \u001b[0;34m\u001b[0m\u001b[0m\n",
      "\u001b[0;32m~/opt/miniconda3/lib/python3.8/site-packages/urllib3/connection.py\u001b[0m in \u001b[0;36mconnect\u001b[0;34m(self)\u001b[0m\n\u001b[1;32m    299\u001b[0m         \u001b[0;31m# Add certificate verification\u001b[0m\u001b[0;34m\u001b[0m\u001b[0;34m\u001b[0m\u001b[0;34m\u001b[0m\u001b[0m\n\u001b[0;32m--> 300\u001b[0;31m         \u001b[0mconn\u001b[0m \u001b[0;34m=\u001b[0m \u001b[0mself\u001b[0m\u001b[0;34m.\u001b[0m\u001b[0m_new_conn\u001b[0m\u001b[0;34m(\u001b[0m\u001b[0;34m)\u001b[0m\u001b[0;34m\u001b[0m\u001b[0;34m\u001b[0m\u001b[0m\n\u001b[0m\u001b[1;32m    301\u001b[0m         \u001b[0mhostname\u001b[0m \u001b[0;34m=\u001b[0m \u001b[0mself\u001b[0m\u001b[0;34m.\u001b[0m\u001b[0mhost\u001b[0m\u001b[0;34m\u001b[0m\u001b[0;34m\u001b[0m\u001b[0m\n",
      "\u001b[0;32m~/opt/miniconda3/lib/python3.8/site-packages/urllib3/connection.py\u001b[0m in \u001b[0;36m_new_conn\u001b[0;34m(self)\u001b[0m\n\u001b[1;32m    167\u001b[0m         \u001b[0;32mexcept\u001b[0m \u001b[0mSocketError\u001b[0m \u001b[0;32mas\u001b[0m \u001b[0me\u001b[0m\u001b[0;34m:\u001b[0m\u001b[0;34m\u001b[0m\u001b[0;34m\u001b[0m\u001b[0m\n\u001b[0;32m--> 168\u001b[0;31m             raise NewConnectionError(\n\u001b[0m\u001b[1;32m    169\u001b[0m                 \u001b[0mself\u001b[0m\u001b[0;34m,\u001b[0m \u001b[0;34m\"Failed to establish a new connection: %s\"\u001b[0m \u001b[0;34m%\u001b[0m \u001b[0me\u001b[0m\u001b[0;34m\u001b[0m\u001b[0;34m\u001b[0m\u001b[0m\n",
      "\u001b[0;31mNewConnectionError\u001b[0m: <urllib3.connection.VerifiedHTTPSConnection object at 0x7fdd7c781e20>: Failed to establish a new connection: [Errno 8] nodename nor servname provided, or not known",
      "\nDuring handling of the above exception, another exception occurred:\n",
      "\u001b[0;31mMaxRetryError\u001b[0m                             Traceback (most recent call last)",
      "\u001b[0;32m~/.local/lib/python3.8/site-packages/requests/adapters.py\u001b[0m in \u001b[0;36msend\u001b[0;34m(self, request, stream, timeout, verify, cert, proxies)\u001b[0m\n\u001b[1;32m    439\u001b[0m             \u001b[0;32mif\u001b[0m \u001b[0;32mnot\u001b[0m \u001b[0mchunked\u001b[0m\u001b[0;34m:\u001b[0m\u001b[0;34m\u001b[0m\u001b[0;34m\u001b[0m\u001b[0m\n\u001b[0;32m--> 440\u001b[0;31m                 resp = conn.urlopen(\n\u001b[0m\u001b[1;32m    441\u001b[0m                     \u001b[0mmethod\u001b[0m\u001b[0;34m=\u001b[0m\u001b[0mrequest\u001b[0m\u001b[0;34m.\u001b[0m\u001b[0mmethod\u001b[0m\u001b[0;34m,\u001b[0m\u001b[0;34m\u001b[0m\u001b[0;34m\u001b[0m\u001b[0m\n",
      "\u001b[0;32m~/opt/miniconda3/lib/python3.8/site-packages/urllib3/connectionpool.py\u001b[0m in \u001b[0;36murlopen\u001b[0;34m(self, method, url, body, headers, retries, redirect, assert_same_host, timeout, pool_timeout, release_conn, chunked, body_pos, **response_kw)\u001b[0m\n\u001b[1;32m    718\u001b[0m \u001b[0;34m\u001b[0m\u001b[0m\n\u001b[0;32m--> 719\u001b[0;31m             retries = retries.increment(\n\u001b[0m\u001b[1;32m    720\u001b[0m                 \u001b[0mmethod\u001b[0m\u001b[0;34m,\u001b[0m \u001b[0murl\u001b[0m\u001b[0;34m,\u001b[0m \u001b[0merror\u001b[0m\u001b[0;34m=\u001b[0m\u001b[0me\u001b[0m\u001b[0;34m,\u001b[0m \u001b[0m_pool\u001b[0m\u001b[0;34m=\u001b[0m\u001b[0mself\u001b[0m\u001b[0;34m,\u001b[0m \u001b[0m_stacktrace\u001b[0m\u001b[0;34m=\u001b[0m\u001b[0msys\u001b[0m\u001b[0;34m.\u001b[0m\u001b[0mexc_info\u001b[0m\u001b[0;34m(\u001b[0m\u001b[0;34m)\u001b[0m\u001b[0;34m[\u001b[0m\u001b[0;36m2\u001b[0m\u001b[0;34m]\u001b[0m\u001b[0;34m\u001b[0m\u001b[0;34m\u001b[0m\u001b[0m\n",
      "\u001b[0;32m~/opt/miniconda3/lib/python3.8/site-packages/urllib3/util/retry.py\u001b[0m in \u001b[0;36mincrement\u001b[0;34m(self, method, url, response, error, _pool, _stacktrace)\u001b[0m\n\u001b[1;32m    435\u001b[0m         \u001b[0;32mif\u001b[0m \u001b[0mnew_retry\u001b[0m\u001b[0;34m.\u001b[0m\u001b[0mis_exhausted\u001b[0m\u001b[0;34m(\u001b[0m\u001b[0;34m)\u001b[0m\u001b[0;34m:\u001b[0m\u001b[0;34m\u001b[0m\u001b[0;34m\u001b[0m\u001b[0m\n\u001b[0;32m--> 436\u001b[0;31m             \u001b[0;32mraise\u001b[0m \u001b[0mMaxRetryError\u001b[0m\u001b[0;34m(\u001b[0m\u001b[0m_pool\u001b[0m\u001b[0;34m,\u001b[0m \u001b[0murl\u001b[0m\u001b[0;34m,\u001b[0m \u001b[0merror\u001b[0m \u001b[0;32mor\u001b[0m \u001b[0mResponseError\u001b[0m\u001b[0;34m(\u001b[0m\u001b[0mcause\u001b[0m\u001b[0;34m)\u001b[0m\u001b[0;34m)\u001b[0m\u001b[0;34m\u001b[0m\u001b[0;34m\u001b[0m\u001b[0m\n\u001b[0m\u001b[1;32m    437\u001b[0m \u001b[0;34m\u001b[0m\u001b[0m\n",
      "\u001b[0;31mMaxRetryError\u001b[0m: HTTPSConnectionPool(host='coking.nytimes.com', port=443): Max retries exceeded with url: /recipes/1016458-red-pepper-risotto (Caused by NewConnectionError('<urllib3.connection.VerifiedHTTPSConnection object at 0x7fdd7c781e20>: Failed to establish a new connection: [Errno 8] nodename nor servname provided, or not known'))",
      "\nDuring handling of the above exception, another exception occurred:\n",
      "\u001b[0;31mConnectionError\u001b[0m                           Traceback (most recent call last)",
      "\u001b[0;32m<ipython-input-29-055c9885859a>\u001b[0m in \u001b[0;36m<module>\u001b[0;34m\u001b[0m\n\u001b[0;32m----> 1\u001b[0;31m \u001b[0mscraper\u001b[0m \u001b[0;34m=\u001b[0m \u001b[0mscrape_me\u001b[0m\u001b[0;34m(\u001b[0m\u001b[0;34m\"https://coking.nytimes.com/recipes/1016458-red-pepper-risotto\"\u001b[0m\u001b[0;34m,\u001b[0m \u001b[0mwild_mode\u001b[0m\u001b[0;34m=\u001b[0m\u001b[0;32mTrue\u001b[0m\u001b[0;34m)\u001b[0m\u001b[0;34m\u001b[0m\u001b[0;34m\u001b[0m\u001b[0m\n\u001b[0m",
      "\u001b[0;32m~/.local/lib/python3.8/site-packages/recipe_scrapers/__init__.py\u001b[0m in \u001b[0;36mscrape_me\u001b[0;34m(url_path, **options)\u001b[0m\n\u001b[1;32m    385\u001b[0m         \u001b[0;32melse\u001b[0m\u001b[0;34m:\u001b[0m\u001b[0;34m\u001b[0m\u001b[0;34m\u001b[0m\u001b[0m\n\u001b[1;32m    386\u001b[0m             \u001b[0moptions\u001b[0m\u001b[0;34m.\u001b[0m\u001b[0mpop\u001b[0m\u001b[0;34m(\u001b[0m\u001b[0;34m\"wild_mode\"\u001b[0m\u001b[0;34m)\u001b[0m\u001b[0;34m\u001b[0m\u001b[0;34m\u001b[0m\u001b[0m\n\u001b[0;32m--> 387\u001b[0;31m             \u001b[0mwild_scraper\u001b[0m \u001b[0;34m=\u001b[0m \u001b[0mSchemaScraperFactory\u001b[0m\u001b[0;34m.\u001b[0m\u001b[0mgenerate\u001b[0m\u001b[0;34m(\u001b[0m\u001b[0murl_path\u001b[0m\u001b[0;34m,\u001b[0m \u001b[0;34m**\u001b[0m\u001b[0moptions\u001b[0m\u001b[0;34m)\u001b[0m\u001b[0;34m\u001b[0m\u001b[0;34m\u001b[0m\u001b[0m\n\u001b[0m\u001b[1;32m    388\u001b[0m             \u001b[0;32mif\u001b[0m \u001b[0;32mnot\u001b[0m \u001b[0mwild_scraper\u001b[0m\u001b[0;34m.\u001b[0m\u001b[0mschema\u001b[0m\u001b[0;34m.\u001b[0m\u001b[0mdata\u001b[0m\u001b[0;34m:\u001b[0m\u001b[0;34m\u001b[0m\u001b[0;34m\u001b[0m\u001b[0m\n\u001b[1;32m    389\u001b[0m                 \u001b[0;32mraise\u001b[0m \u001b[0mNoSchemaFoundInWildMode\u001b[0m\u001b[0;34m(\u001b[0m\u001b[0murl_path\u001b[0m\u001b[0;34m)\u001b[0m\u001b[0;34m\u001b[0m\u001b[0;34m\u001b[0m\u001b[0m\n",
      "\u001b[0;32m~/.local/lib/python3.8/site-packages/recipe_scrapers/_factory.py\u001b[0m in \u001b[0;36mgenerate\u001b[0;34m(cls, url, **options)\u001b[0m\n\u001b[1;32m     49\u001b[0m     \u001b[0;34m@\u001b[0m\u001b[0mclassmethod\u001b[0m\u001b[0;34m\u001b[0m\u001b[0;34m\u001b[0m\u001b[0m\n\u001b[1;32m     50\u001b[0m     \u001b[0;32mdef\u001b[0m \u001b[0mgenerate\u001b[0m\u001b[0;34m(\u001b[0m\u001b[0mcls\u001b[0m\u001b[0;34m,\u001b[0m \u001b[0murl\u001b[0m\u001b[0;34m,\u001b[0m \u001b[0;34m**\u001b[0m\u001b[0moptions\u001b[0m\u001b[0;34m)\u001b[0m\u001b[0;34m:\u001b[0m\u001b[0;34m\u001b[0m\u001b[0;34m\u001b[0m\u001b[0m\n\u001b[0;32m---> 51\u001b[0;31m         \u001b[0;32mreturn\u001b[0m \u001b[0mcls\u001b[0m\u001b[0;34m.\u001b[0m\u001b[0mSchemaScraper\u001b[0m\u001b[0;34m(\u001b[0m\u001b[0murl\u001b[0m\u001b[0;34m,\u001b[0m \u001b[0;34m**\u001b[0m\u001b[0moptions\u001b[0m\u001b[0;34m)\u001b[0m\u001b[0;34m\u001b[0m\u001b[0;34m\u001b[0m\u001b[0m\n\u001b[0m",
      "\u001b[0;32m~/.local/lib/python3.8/site-packages/recipe_scrapers/_abstract.py\u001b[0m in \u001b[0;36m__init__\u001b[0;34m(self, url, proxies, timeout, wild_mode)\u001b[0m\n\u001b[1;32m     31\u001b[0m             \u001b[0murl\u001b[0m \u001b[0;34m=\u001b[0m \u001b[0;34m\"https://test.example.com/\"\u001b[0m\u001b[0;34m\u001b[0m\u001b[0;34m\u001b[0m\u001b[0m\n\u001b[1;32m     32\u001b[0m         \u001b[0;32melse\u001b[0m\u001b[0;34m:\u001b[0m\u001b[0;34m\u001b[0m\u001b[0;34m\u001b[0m\u001b[0m\n\u001b[0;32m---> 33\u001b[0;31m             self.page_data = requests.get(\n\u001b[0m\u001b[1;32m     34\u001b[0m                 \u001b[0murl\u001b[0m\u001b[0;34m,\u001b[0m \u001b[0mheaders\u001b[0m\u001b[0;34m=\u001b[0m\u001b[0mHEADERS\u001b[0m\u001b[0;34m,\u001b[0m \u001b[0mproxies\u001b[0m\u001b[0;34m=\u001b[0m\u001b[0mproxies\u001b[0m\u001b[0;34m,\u001b[0m \u001b[0mtimeout\u001b[0m\u001b[0;34m=\u001b[0m\u001b[0mtimeout\u001b[0m\u001b[0;34m\u001b[0m\u001b[0;34m\u001b[0m\u001b[0m\n\u001b[1;32m     35\u001b[0m             ).content\n",
      "\u001b[0;32m~/.local/lib/python3.8/site-packages/requests/api.py\u001b[0m in \u001b[0;36mget\u001b[0;34m(url, params, **kwargs)\u001b[0m\n\u001b[1;32m     73\u001b[0m     \"\"\"\n\u001b[1;32m     74\u001b[0m \u001b[0;34m\u001b[0m\u001b[0m\n\u001b[0;32m---> 75\u001b[0;31m     \u001b[0;32mreturn\u001b[0m \u001b[0mrequest\u001b[0m\u001b[0;34m(\u001b[0m\u001b[0;34m'get'\u001b[0m\u001b[0;34m,\u001b[0m \u001b[0murl\u001b[0m\u001b[0;34m,\u001b[0m \u001b[0mparams\u001b[0m\u001b[0;34m=\u001b[0m\u001b[0mparams\u001b[0m\u001b[0;34m,\u001b[0m \u001b[0;34m**\u001b[0m\u001b[0mkwargs\u001b[0m\u001b[0;34m)\u001b[0m\u001b[0;34m\u001b[0m\u001b[0;34m\u001b[0m\u001b[0m\n\u001b[0m\u001b[1;32m     76\u001b[0m \u001b[0;34m\u001b[0m\u001b[0m\n\u001b[1;32m     77\u001b[0m \u001b[0;34m\u001b[0m\u001b[0m\n",
      "\u001b[0;32m~/.local/lib/python3.8/site-packages/requests/api.py\u001b[0m in \u001b[0;36mrequest\u001b[0;34m(method, url, **kwargs)\u001b[0m\n\u001b[1;32m     59\u001b[0m     \u001b[0;31m# cases, and look like a memory leak in others.\u001b[0m\u001b[0;34m\u001b[0m\u001b[0;34m\u001b[0m\u001b[0;34m\u001b[0m\u001b[0m\n\u001b[1;32m     60\u001b[0m     \u001b[0;32mwith\u001b[0m \u001b[0msessions\u001b[0m\u001b[0;34m.\u001b[0m\u001b[0mSession\u001b[0m\u001b[0;34m(\u001b[0m\u001b[0;34m)\u001b[0m \u001b[0;32mas\u001b[0m \u001b[0msession\u001b[0m\u001b[0;34m:\u001b[0m\u001b[0;34m\u001b[0m\u001b[0;34m\u001b[0m\u001b[0m\n\u001b[0;32m---> 61\u001b[0;31m         \u001b[0;32mreturn\u001b[0m \u001b[0msession\u001b[0m\u001b[0;34m.\u001b[0m\u001b[0mrequest\u001b[0m\u001b[0;34m(\u001b[0m\u001b[0mmethod\u001b[0m\u001b[0;34m=\u001b[0m\u001b[0mmethod\u001b[0m\u001b[0;34m,\u001b[0m \u001b[0murl\u001b[0m\u001b[0;34m=\u001b[0m\u001b[0murl\u001b[0m\u001b[0;34m,\u001b[0m \u001b[0;34m**\u001b[0m\u001b[0mkwargs\u001b[0m\u001b[0;34m)\u001b[0m\u001b[0;34m\u001b[0m\u001b[0;34m\u001b[0m\u001b[0m\n\u001b[0m\u001b[1;32m     62\u001b[0m \u001b[0;34m\u001b[0m\u001b[0m\n\u001b[1;32m     63\u001b[0m \u001b[0;34m\u001b[0m\u001b[0m\n",
      "\u001b[0;32m~/.local/lib/python3.8/site-packages/requests/sessions.py\u001b[0m in \u001b[0;36mrequest\u001b[0;34m(self, method, url, params, data, headers, cookies, files, auth, timeout, allow_redirects, proxies, hooks, stream, verify, cert, json)\u001b[0m\n\u001b[1;32m    527\u001b[0m         }\n\u001b[1;32m    528\u001b[0m         \u001b[0msend_kwargs\u001b[0m\u001b[0;34m.\u001b[0m\u001b[0mupdate\u001b[0m\u001b[0;34m(\u001b[0m\u001b[0msettings\u001b[0m\u001b[0;34m)\u001b[0m\u001b[0;34m\u001b[0m\u001b[0;34m\u001b[0m\u001b[0m\n\u001b[0;32m--> 529\u001b[0;31m         \u001b[0mresp\u001b[0m \u001b[0;34m=\u001b[0m \u001b[0mself\u001b[0m\u001b[0;34m.\u001b[0m\u001b[0msend\u001b[0m\u001b[0;34m(\u001b[0m\u001b[0mprep\u001b[0m\u001b[0;34m,\u001b[0m \u001b[0;34m**\u001b[0m\u001b[0msend_kwargs\u001b[0m\u001b[0;34m)\u001b[0m\u001b[0;34m\u001b[0m\u001b[0;34m\u001b[0m\u001b[0m\n\u001b[0m\u001b[1;32m    530\u001b[0m \u001b[0;34m\u001b[0m\u001b[0m\n\u001b[1;32m    531\u001b[0m         \u001b[0;32mreturn\u001b[0m \u001b[0mresp\u001b[0m\u001b[0;34m\u001b[0m\u001b[0;34m\u001b[0m\u001b[0m\n",
      "\u001b[0;32m~/.local/lib/python3.8/site-packages/requests/sessions.py\u001b[0m in \u001b[0;36msend\u001b[0;34m(self, request, **kwargs)\u001b[0m\n\u001b[1;32m    643\u001b[0m \u001b[0;34m\u001b[0m\u001b[0m\n\u001b[1;32m    644\u001b[0m         \u001b[0;31m# Send the request\u001b[0m\u001b[0;34m\u001b[0m\u001b[0;34m\u001b[0m\u001b[0;34m\u001b[0m\u001b[0m\n\u001b[0;32m--> 645\u001b[0;31m         \u001b[0mr\u001b[0m \u001b[0;34m=\u001b[0m \u001b[0madapter\u001b[0m\u001b[0;34m.\u001b[0m\u001b[0msend\u001b[0m\u001b[0;34m(\u001b[0m\u001b[0mrequest\u001b[0m\u001b[0;34m,\u001b[0m \u001b[0;34m**\u001b[0m\u001b[0mkwargs\u001b[0m\u001b[0;34m)\u001b[0m\u001b[0;34m\u001b[0m\u001b[0;34m\u001b[0m\u001b[0m\n\u001b[0m\u001b[1;32m    646\u001b[0m \u001b[0;34m\u001b[0m\u001b[0m\n\u001b[1;32m    647\u001b[0m         \u001b[0;31m# Total elapsed time of the request (approximately)\u001b[0m\u001b[0;34m\u001b[0m\u001b[0;34m\u001b[0m\u001b[0;34m\u001b[0m\u001b[0m\n",
      "\u001b[0;32m~/.local/lib/python3.8/site-packages/requests/adapters.py\u001b[0m in \u001b[0;36msend\u001b[0;34m(self, request, stream, timeout, verify, cert, proxies)\u001b[0m\n\u001b[1;32m    517\u001b[0m                 \u001b[0;32mraise\u001b[0m \u001b[0mSSLError\u001b[0m\u001b[0;34m(\u001b[0m\u001b[0me\u001b[0m\u001b[0;34m,\u001b[0m \u001b[0mrequest\u001b[0m\u001b[0;34m=\u001b[0m\u001b[0mrequest\u001b[0m\u001b[0;34m)\u001b[0m\u001b[0;34m\u001b[0m\u001b[0;34m\u001b[0m\u001b[0m\n\u001b[1;32m    518\u001b[0m \u001b[0;34m\u001b[0m\u001b[0m\n\u001b[0;32m--> 519\u001b[0;31m             \u001b[0;32mraise\u001b[0m \u001b[0mConnectionError\u001b[0m\u001b[0;34m(\u001b[0m\u001b[0me\u001b[0m\u001b[0;34m,\u001b[0m \u001b[0mrequest\u001b[0m\u001b[0;34m=\u001b[0m\u001b[0mrequest\u001b[0m\u001b[0;34m)\u001b[0m\u001b[0;34m\u001b[0m\u001b[0;34m\u001b[0m\u001b[0m\n\u001b[0m\u001b[1;32m    520\u001b[0m \u001b[0;34m\u001b[0m\u001b[0m\n\u001b[1;32m    521\u001b[0m         \u001b[0;32mexcept\u001b[0m \u001b[0mClosedPoolError\u001b[0m \u001b[0;32mas\u001b[0m \u001b[0me\u001b[0m\u001b[0;34m:\u001b[0m\u001b[0;34m\u001b[0m\u001b[0;34m\u001b[0m\u001b[0m\n",
      "\u001b[0;31mConnectionError\u001b[0m: HTTPSConnectionPool(host='coking.nytimes.com', port=443): Max retries exceeded with url: /recipes/1016458-red-pepper-risotto (Caused by NewConnectionError('<urllib3.connection.VerifiedHTTPSConnection object at 0x7fdd7c781e20>: Failed to establish a new connection: [Errno 8] nodename nor servname provided, or not known'))"
     ]
    }
   ],
   "source": [
    "scraper = scrape_me(\"https://coking.nytimes.com/recipes/1016458-red-pepper-risotto\", wild_mode=True)"
   ]
  },
  {
   "cell_type": "code",
   "execution_count": null,
   "id": "81495319",
   "metadata": {},
   "outputs": [],
   "source": []
  },
  {
   "cell_type": "code",
   "execution_count": null,
   "id": "d691f723",
   "metadata": {},
   "outputs": [],
   "source": [
    "import logging\n",
    "\n",
    "\n",
    "logger = logging.getLogger()\n",
    "\n",
    "\n",
    "def add_recipe():\n",
    "    \n",
    "    request_parsed = request.get_json()\n",
    "    logger.info(request_parsed)\n",
    "    url = request_parsed['data']['url']\n",
    "    \n",
    "    data = db.collection('users').document('dave').get().to_dict()\n",
    "    found_recipe = True\n",
    "    \n",
    "    try:\n",
    "        scraper = scrape_me(url, wild_mode=True)\n",
    "        title = scraper.title()\n",
    "\n",
    "        data[title] = {\n",
    "            \"title\": title,\n",
    "            \"ingredients\": scraper.ingredients(),\n",
    "            \"instructions\": scraper.instructions(),\n",
    "            \"image\": scraper.image(),\n",
    "            \"nutrients\": scraper.nutrients(),\n",
    "            \"total_time\": scraper.total_time(),\n",
    "        }\n",
    "        \n",
    "        doc_ref = db.collection('users').document('dave')\n",
    "        doc_ref.set(data)\n",
    "    \n",
    "    except:\n",
    "        found_recipe = False\n",
    "    \n",
    "    recipes = list(data)\n",
    "    \n",
    "    # Need the key \"data\" in the return object\n",
    "    response = json.dumps({\n",
    "        'data': recipes.\n",
    "        \"success\": found_recipe\n",
    "    })\n",
    "\n",
    "    headers = {'Access-Control-Allow-Origin': '*'}\n",
    "\n",
    "    return (response, 200, headers)"
   ]
  },
  {
   "cell_type": "code",
   "execution_count": null,
   "id": "1697b410",
   "metadata": {},
   "outputs": [],
   "source": []
  },
  {
   "cell_type": "code",
   "execution_count": null,
   "id": "2dd5b066",
   "metadata": {},
   "outputs": [],
   "source": []
  }
 ],
 "metadata": {
  "kernelspec": {
   "display_name": "Python 3",
   "language": "python",
   "name": "python3"
  },
  "language_info": {
   "codemirror_mode": {
    "name": "ipython",
    "version": 3
   },
   "file_extension": ".py",
   "mimetype": "text/x-python",
   "name": "python",
   "nbconvert_exporter": "python",
   "pygments_lexer": "ipython3",
   "version": "3.8.3"
  }
 },
 "nbformat": 4,
 "nbformat_minor": 5
}
